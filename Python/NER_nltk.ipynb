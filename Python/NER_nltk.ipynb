{
 "cells": [
  {
   "cell_type": "code",
   "execution_count": 76,
   "metadata": {},
   "outputs": [],
   "source": [
    "import requests\n",
    "import bs4\n",
    "from bs4 import BeautifulSoup\n",
    "\n",
    "import nltk\n",
    "from nltk.tokenize import word_tokenize\n",
    "from nltk.tag import pos_tag\n",
    "from nltk.corpus import stopwords\n",
    "\n",
    "from nltk.chunk import conlltags2tree, tree2conlltags\n",
    "\n",
    "from string import punctuation\n",
    "from pprint import pprint"
   ]
  },
  {
   "cell_type": "code",
   "execution_count": 10,
   "metadata": {},
   "outputs": [],
   "source": [
    "r = requests.get(\"https://www.thehindu.com/news/international/imran-khan-to-meet-donald-trump-at-wef-in-davos/article30608183.ece\")"
   ]
  },
  {
   "cell_type": "code",
   "execution_count": 11,
   "metadata": {},
   "outputs": [],
   "source": [
    "data = r.text"
   ]
  },
  {
   "cell_type": "code",
   "execution_count": 13,
   "metadata": {},
   "outputs": [],
   "source": [
    "soup = BeautifulSoup(data)\n",
    "# soup.prettify()"
   ]
  },
  {
   "cell_type": "code",
   "execution_count": 25,
   "metadata": {},
   "outputs": [
    {
     "data": {
      "text/plain": [
       "'\\nImran Khan to meet Donald Trump at WEF in Davos - The Hindu\\n'"
      ]
     },
     "execution_count": 25,
     "metadata": {},
     "output_type": "execute_result"
    }
   ],
   "source": [
    "# soup.get_text()\n",
    "soup.title.get_text()"
   ]
  },
  {
   "cell_type": "code",
   "execution_count": 26,
   "metadata": {},
   "outputs": [
    {
     "data": {
      "text/plain": [
       "'\\nThe Pakistan Prime Minister would attend the Davos summit from January 21 to 23 at the invitation of Prof. Klaus Schwab, Founder and Executive Chairman of the World Economic Forum. '"
      ]
     },
     "execution_count": 26,
     "metadata": {},
     "output_type": "execute_result"
    }
   ],
   "source": [
    "soup.h2.get_text()"
   ]
  },
  {
   "cell_type": "code",
   "execution_count": 44,
   "metadata": {},
   "outputs": [
    {
     "data": {
      "text/plain": [
       "'The Pakistan Prime Minister would attend the Davos summit from January 21 to 23 at the invitation of Prof. Klaus Schwab, Founder and Executive Chairman of the World Economic Forum. '"
      ]
     },
     "execution_count": 44,
     "metadata": {},
     "output_type": "execute_result"
    }
   ],
   "source": [
    "soup.h2.text.replace('\\n','')"
   ]
  },
  {
   "cell_type": "code",
   "execution_count": 45,
   "metadata": {},
   "outputs": [
    {
     "data": {
      "text/plain": [
       "' Pakistan Prime Minister Imran Khan and the U.S. President Donald Trump will meet this week on the sidelines of the World Economic Forum (WEF) in Davos, the Foreign Office announced on Monday. Mr. Khan would attend the WEF in Davos, Switzerland, from January 21 to 23 at the invitation of Prof. Klaus Schwab, Founder and Executive Chairman of the WEF. “On the sidelines [of the WEF], the Prime Minister will hold bilateral meetings with several world leaders. These include Prime Minister’s meeting with the U.S. President Trump,” the FO said. This would be the third leadership-level interaction between Pakistan and the U.S. since Prime Minister Khan’s maiden visit to Washington in July 2019. The two leaders had also met on the sidelines of the U.N. General Assembly in September. Their meeting comes amid tensions in the Gulf region between Iran and the U.S., and Pakistan’s efforts to drum up support on the Kashmir issue. Ahead of the announcement of his meeting with Mr. Trump, Mr. Khan on Saturday warned that he feared “an Indian false flag operation.” He said there was an urgent need for the U.N. Security Council to insist India to allow the U.N. Military Observer Group in India and Pakistan (UNMOGIP) return to Kashmir. “I want to make clear to India and the international community that if India continues its military attacks killing civilians across the LoC, Pakistan will find it increasingly difficult to remain an inactive observer along the LoC,” Mr. Khan tweeted on Saturday. India maintains that the UNMOGIP, established in January 1949, has outlived its utility and is irrelevant after the Simla Agreement and the consequent establishment of the Line of Control. Several other meetings are also scheduled with a wide range of corporate, business, technology and finance executives, and representatives of international financial institutions, the Foreign Office said, disclosing details of Mr. Khan’s programme in Davos. Imran Khan would deliver a keynote address at the WEF Special Session, and interact with the CEOs and corporate leaders at the ‘Pakistan Strategy Dialogue’. Prime Minister Khan will also speak to the international media and editors during a session with the Forum’s International Media Council. Throughout his engagements at Davos, Prime Minister Khan will share Pakistan’s vision and achievements in the areas of economy, peace and stability, trade, business and investment opportunities, the FO said. He will also highlight the current situation in Kashmir and Pakistan’s perspective on key regional and international issues, it said. This year marks the 50th anniversary of the Forum. In keeping with the significance of this milestone, political leaders, business executives, heads of international organisations and civil society representatives will deliberate on contemporary economic, geopolitical, social and environmental issues at Davos summit.'"
      ]
     },
     "execution_count": 45,
     "metadata": {},
     "output_type": "execute_result"
    }
   ],
   "source": [
    "article = soup.find(\"div\", {\"id\": \"content-body-14269002-30608183\"})\n",
    "article_content = article.text.replace('\\n','')\n",
    "article_content\n",
    "# content = article.get_text()"
   ]
  },
  {
   "cell_type": "code",
   "execution_count": 59,
   "metadata": {},
   "outputs": [],
   "source": [
    "stoplist = set(stopwords.words('english') + list(punctuation))\n",
    "\n",
    "def preprocess(content):\n",
    "    content = content.lower()\n",
    "    content_tokens = nltk.word_tokenize(content)\n",
    "    \n",
    "    filtered_tokens = [token for token in content_tokens if token not in stoplist]\n",
    "    \n",
    "    content = nltk.pos_tag(filtered_tokens)\n",
    "    return content"
   ]
  },
  {
   "cell_type": "code",
   "execution_count": 62,
   "metadata": {},
   "outputs": [
    {
     "data": {
      "text/plain": [
       "[('pakistan', 'JJ'),\n",
       " ('prime', 'JJ'),\n",
       " ('minister', 'NN'),\n",
       " ('imran', 'NN'),\n",
       " ('khan', 'NNP')]"
      ]
     },
     "execution_count": 62,
     "metadata": {},
     "output_type": "execute_result"
    }
   ],
   "source": [
    "content = preprocess(article_content)\n",
    "content[:5]"
   ]
  },
  {
   "cell_type": "code",
   "execution_count": 63,
   "metadata": {},
   "outputs": [],
   "source": [
    "pattern = 'NP: {<DT>?<JJ>*<NN>}'"
   ]
  },
  {
   "cell_type": "code",
   "execution_count": 69,
   "metadata": {},
   "outputs": [],
   "source": [
    "# Chunking\n",
    "\n",
    "cp = nltk.RegexpParser(pattern)\n",
    "cs = cp.parse(content)"
   ]
  },
  {
   "cell_type": "code",
   "execution_count": 72,
   "metadata": {},
   "outputs": [
    {
     "name": "stdout",
     "output_type": "stream",
     "text": [
      "[Tree('NP', [('pakistan', 'JJ'), ('prime', 'JJ'), ('minister', 'NN')]), Tree('NP', [('imran', 'NN')]), ('khan', 'NNP'), Tree('NP', [('u.s.', 'JJ'), ('president', 'NN')]), ('donald', 'NNS')]\n"
     ]
    }
   ],
   "source": [
    "print(cs[:5])"
   ]
  },
  {
   "cell_type": "code",
   "execution_count": 83,
   "metadata": {},
   "outputs": [
    {
     "data": {
      "text/plain": [
       "[('pakistan', 'JJ', 'B-NP'),\n",
       " ('prime', 'JJ', 'I-NP'),\n",
       " ('minister', 'NN', 'I-NP'),\n",
       " ('imran', 'NN', 'B-NP'),\n",
       " ('khan', 'NNP', 'O')]"
      ]
     },
     "execution_count": 83,
     "metadata": {},
     "output_type": "execute_result"
    }
   ],
   "source": [
    "iob_tagged = tree2conlltags(cs)\n",
    "iob_tagged[:5]"
   ]
  },
  {
   "cell_type": "code",
   "execution_count": null,
   "metadata": {},
   "outputs": [],
   "source": []
  }
 ],
 "metadata": {
  "kernelspec": {
   "display_name": "Python 3",
   "language": "python",
   "name": "python3"
  },
  "language_info": {
   "codemirror_mode": {
    "name": "ipython",
    "version": 3
   },
   "file_extension": ".py",
   "mimetype": "text/x-python",
   "name": "python",
   "nbconvert_exporter": "python",
   "pygments_lexer": "ipython3",
   "version": "3.7.3"
  }
 },
 "nbformat": 4,
 "nbformat_minor": 4
}
